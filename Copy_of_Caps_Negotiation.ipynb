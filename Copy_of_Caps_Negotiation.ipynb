{
  "nbformat": 4,
  "nbformat_minor": 0,
  "metadata": {
    "colab": {
      "name": "Copy of Caps Negotiation.ipynb",
      "provenance": [],
      "collapsed_sections": [],
      "include_colab_link": true
    },
    "kernelspec": {
      "name": "python3",
      "display_name": "Python 3"
    }
  },
  "cells": [
    {
      "cell_type": "markdown",
      "metadata": {
        "id": "view-in-github",
        "colab_type": "text"
      },
      "source": [
        "<a href=\"https://colab.research.google.com/github/TheiChrist/Demo/blob/master/Copy_of_Caps_Negotiation.ipynb\" target=\"_parent\"><img src=\"https://colab.research.google.com/assets/colab-badge.svg\" alt=\"Open In Colab\"/></a>"
      ]
    },
    {
      "cell_type": "markdown",
      "metadata": {
        "id": "IW01NAv1WsR5"
      },
      "source": [
        "### Gstreamer Installation"
      ]
    },
    {
      "cell_type": "code",
      "metadata": {
        "id": "EX_FTDQGJOtp",
        "outputId": "4a45f553-de2d-4e3f-98cf-850c65619e3d",
        "colab": {
          "base_uri": "https://localhost:8080/",
          "height": 130
        }
      },
      "source": [
        "apt\n",
        "get update \n",
        "apt\n",
        "get\n",
        " y \n",
        " install\n",
        " recommends install \\\n",
        "    sudo \\\n",
        "    vim \\\n",
        "    wget \\\n",
        "    build\n",
        "essential \\\n",
        "    pkg\n",
        "config \\\n",
        "    python3.6 \\\n",
        "    python3\n",
        "pip \\\n",
        "    python3.6\n",
        "dev \\\n",
        "    python3.6\n",
        "venv \\\n",
        "    python\n",
        "dev \\\n",
        "    python3\n",
        "dev \\\n",
        "    git \\\n",
        "    cmake \\\n",
        "    autoconf \\\n",
        "    automake \\\n",
        "    libtool \\\n",
        "    gstreamer\n",
        "1.0 \\\n",
        "    gstreamer1.0\n",
        "dev \\\n",
        "    libgstreamer1.0-0 \\\n",
        "    gstreamer1.0\n",
        "plugins\n",
        "base \\\n",
        "    gstreamer1.0\n",
        "plugins\n",
        "good \\\n",
        "    gstreamer1.0\n",
        "plugins\n",
        "bad \\\n",
        "    gstreamer1.0\n",
        "plugins\n",
        "ugly \\\n",
        "    gstreamer1.0\n",
        "libav \\\n",
        "    gstreamer1.0\n",
        "doc \\\n",
        "    gstreamer1.0\n",
        "tools \\\n",
        "    gstreamer1.0\n",
        "x \\\n",
        "    gstreamer1.0\n",
        "alsa \\\n",
        "    gstreamer1.0-gl \\\n",
        "    gstreamer1.0-gtk3 \\\n",
        "    gstreamer1.0-qt5 \\\n",
        "    gstreamer1.0-pulseaudio \\\n",
        "    python-gst-1.0 \\\n",
        "    libgirepository1.0-dev \\\n",
        "    libgstreamer\n",
        "plugins\n",
        "base1.0\n",
        "dev \\\n",
        "    libcairo2-dev \\\n",
        "    gir1.2\n",
        "gstreamer-1.0 \\\n",
        "    python3-gi \\\n",
        "    python-gi-dev\n"
      ],
      "execution_count": 1,
      "outputs": [
        {
          "output_type": "error",
          "ename": "SyntaxError",
          "evalue": "ignored",
          "traceback": [
            "\u001b[0;36m  File \u001b[0;32m\"<ipython-input-1-2bdf45dadcaa>\"\u001b[0;36m, line \u001b[0;32m2\u001b[0m\n\u001b[0;31m    get update\u001b[0m\n\u001b[0m             ^\u001b[0m\n\u001b[0;31mSyntaxError\u001b[0m\u001b[0;31m:\u001b[0m invalid syntax\n"
          ]
        }
      ]
    },
    {
      "cell_type": "code",
      "metadata": {
        "id": "CqSX-64b0anu",
        "outputId": "da474fca-40fa-451b-bae6-202330b50bc5",
        "colab": {
          "base_uri": "https://localhost:8080/",
          "height": 130
        }
      },
      "source": [
        "installed anyway.\n",
        "In Chromebook3\n"
      ],
      "execution_count": 2,
      "outputs": [
        {
          "output_type": "error",
          "ename": "SyntaxError",
          "evalue": "ignored",
          "traceback": [
            "\u001b[0;36m  File \u001b[0;32m\"<ipython-input-2-3945347cf4a8>\"\u001b[0;36m, line \u001b[0;32m1\u001b[0m\n\u001b[0;31m    installed anyway.\u001b[0m\n\u001b[0m                   ^\u001b[0m\n\u001b[0;31mSyntaxError\u001b[0m\u001b[0;31m:\u001b[0m invalid syntax\n"
          ]
        }
      ]
    },
    {
      "cell_type": "markdown",
      "metadata": {
        "id": "z7vokTUwWwzM"
      },
      "source": [
        "### Gstreamer-Python Installation"
      ]
    },
    {
      "cell_type": "code",
      "metadata": {
        "id": "0s8D1rA7JaHg"
      },
      "source": [
        "pip install\n",
        " U wheel pip setuptools\n",
        "python \n",
        "m pip install\n",
        "U git+https:github.com/jackersson/gstreamer-python.git\n",
        "egg\n",
        "gstreamer-python\n",
        "cp /usr/lib/python3.6/site-packages/gi/overrides/Gst*.py /usr/lib/python3/dist-packages/gi/overrides\n",
        "cp /usr/lib/python3.6/site-packages/gi/overrides/_gi_gst.* /usr/lib/python3/dist-packages/gi/overrides"
      ],
      "execution_count": null,
      "outputs": []
    },
    {
      "cell_type": "code",
      "metadata": {
        "id": "vgDg6SizJ8b7"
      },
      "source": [
        "from gstreamer import Gst, GLib"
      ],
      "execution_count": null,
      "outputs": []
    },
    {
      "cell_type": "markdown",
      "metadata": {
        "id": "-40dx-KlW2sM"
      },
      "source": [
        "### Caps Intersection\n"
      ]
    },
    {
      "cell_type": "code",
      "metadata": {
        "id": "g4mjBFOVJ_JN"
      },
      "source": [
        "# Input caps\n",
        "IN_CAPS = Gst.Caps(Gst.Structure('video/x-raw',\n",
        "                                 format=Gst.ValueList([\"RGB\", \"GRAY8\"]),\n",
        "                                 width=Gst.ValueList([320, 640, 1280, 1920]),\n",
        "                                 height=Gst.ValueList([240, 480, 720, 1080])))\n",
        "\n",
        "# Output caps\n",
        "OUT_CAPS = Gst.Caps(Gst.Structure('video/x-raw',\n",
        "                                  format=Gst.ValueList([\"RGB\"]),\n",
        "                                  width=Gst.ValueList([640, 1280, 1920]),\n",
        "                                  height=Gst.ValueList([480, 720, 1080])))"
      ],
      "execution_count": null,
      "outputs": []
    },
    {
      "cell_type": "code",
      "metadata": {
        "id": "1QQuHpHGVzfK"
      },
      "source": [
        "print(IN_CAPS.to_string())\n",
        "print(OUT_CAPS.to_string())"
      ],
      "execution_count": null,
      "outputs": []
    },
    {
      "cell_type": "code",
      "metadata": {
        "id": "ZUcgXB5DV4Ib"
      },
      "source": [
        "caps_intersection = IN_CAPS.intersect(OUT_CAPS).to_string()\n",
        "caps_intersection"
      ],
      "execution_count": null,
      "outputs": []
    },
    {
      "cell_type": "markdown",
      "metadata": {
        "id": "wEuGJnNJYwBj"
      },
      "source": [
        "### Fixate caps"
      ]
    },
    {
      "cell_type": "code",
      "metadata": {
        "id": "Gynauy3VYXJD"
      },
      "source": [
        "caps = Gst.Caps.from_string(caps_intersection)\n",
        "print(f\"Before fixate: {caps}\")\n",
        "caps = caps.fixate()\n",
        "print(f\"After fixate: {caps}\")\n"
      ],
      "execution_count": null,
      "outputs": []
    },
    {
      "cell_type": "markdown",
      "metadata": {
        "id": "9va0PHLhamyv"
      },
      "source": [
        "#### Fixate Nearest\n"
      ]
    },
    {
      "cell_type": "code",
      "metadata": {
        "id": "V-NczdXlamRr"
      },
      "source": [
        "caps = Gst.Caps.from_string(caps_intersection)\n",
        "print(f\"Before fixate: {caps}\")\n",
        "\n",
        "# Copy Structure and fixate values nearest to target\n",
        "new_format = caps.get_structure(0).copy()\n",
        "new_format.fixate_field_nearest_int('width', 1920)\n",
        "new_format.fixate_field_nearest_int('height', 1080)\n",
        "\n",
        "new_caps = Gst.Caps.new_empty()\n",
        "new_caps.append_structure(new_format)\n",
        "\n",
        "new_caps = new_caps.fixate()\n",
        "print(f\"After fixate: {new_caps}\")"
      ],
      "execution_count": null,
      "outputs": []
    }
  ]
}